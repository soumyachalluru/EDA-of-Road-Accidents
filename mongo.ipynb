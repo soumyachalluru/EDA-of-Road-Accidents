{
 "cells": [
  {
   "cell_type": "code",
   "execution_count": 2,
   "id": "ef84d9db",
   "metadata": {},
   "outputs": [
    {
     "name": "stdout",
     "output_type": "stream",
     "text": [
      "Requirement already satisfied: pymongo in c:\\users\\my computer\\anaconda3\\lib\\site-packages (4.6.3)\n",
      "Requirement already satisfied: dnspython<3.0.0,>=1.16.0 in c:\\users\\my computer\\anaconda3\\lib\\site-packages (from pymongo) (2.6.1)\n",
      "Note: you may need to restart the kernel to use updated packages.\n"
     ]
    }
   ],
   "source": [
    "pip install pymongo"
   ]
  },
  {
   "cell_type": "code",
   "execution_count": 3,
   "id": "2526935a",
   "metadata": {},
   "outputs": [],
   "source": [
    "import pymongo"
   ]
  },
  {
   "cell_type": "code",
   "execution_count": 4,
   "id": "ffd107e8",
   "metadata": {},
   "outputs": [],
   "source": [
    "client = pymongo.MongoClient(\"mongodb://localhost:27017/\")"
   ]
  },
  {
   "cell_type": "code",
   "execution_count": 5,
   "id": "0013c1f3",
   "metadata": {},
   "outputs": [],
   "source": [
    "db = client['dbproject']"
   ]
  },
  {
   "cell_type": "code",
   "execution_count": 6,
   "id": "c5b0aebe",
   "metadata": {},
   "outputs": [],
   "source": [
    "collection = db['collisions']\n",
    "collection = db['parties']\n",
    "collection = db['victims']"
   ]
  },
  {
   "cell_type": "code",
   "execution_count": 7,
   "id": "47e496da",
   "metadata": {},
   "outputs": [],
   "source": [
    "cursor = collection.find()"
   ]
  },
  {
   "cell_type": "code",
   "execution_count": 56,
   "id": "07a722ac",
   "metadata": {},
   "outputs": [],
   "source": [
    "for document in cursor:\n",
    "    print(document)\n"
   ]
  },
  {
   "cell_type": "code",
   "execution_count": 40,
   "id": "d4276c9e",
   "metadata": {},
   "outputs": [
    {
     "name": "stdout",
     "output_type": "stream",
     "text": [
      "Number of accidents with victim age between 10 and 19 : 31978\n",
      "Number of accidents with victim age between 20 and 29 : 92886\n",
      "Number of accidents with victim age between 30 and 39 : 65872\n",
      "Number of accidents with victim age between 40 and 49 : 50627\n"
     ]
    }
   ],
   "source": [
    "# Age range 10 to 20\n",
    "pipeline_10_to_20 = [\n",
    "    {\n",
    "        \"$match\": {\n",
    "            \"victim_age\": {\"$gte\": 10, \"$lt\": 20}\n",
    "        }\n",
    "    },\n",
    "    {\n",
    "        \"$group\": {\n",
    "            \"_id\": None,\n",
    "            \"count\": {\"$sum\": 1}\n",
    "        }\n",
    "    }\n",
    "]\n",
    "\n",
    "# Age range 20 to 30\n",
    "pipeline_20_to_30 = [\n",
    "    {\n",
    "        \"$match\": {\n",
    "            \"victim_age\": {\"$gte\": 20, \"$lt\": 30}\n",
    "        }\n",
    "    },\n",
    "    {\n",
    "        \"$group\": {\n",
    "            \"_id\": None,\n",
    "            \"count\": {\"$sum\": 1}\n",
    "        }\n",
    "    }\n",
    "]\n",
    "\n",
    "# Age range 30 to 40\n",
    "pipeline_30_to_40 = [\n",
    "    {\n",
    "        \"$match\": {\n",
    "            \"victim_age\": {\"$gte\": 30, \"$lt\": 40}\n",
    "        }\n",
    "    },\n",
    "    {\n",
    "        \"$group\": {\n",
    "            \"_id\": None,\n",
    "            \"count\": {\"$sum\": 1}\n",
    "        }\n",
    "    }\n",
    "]\n",
    "\n",
    "# Age range 40 to 50\n",
    "pipeline_40_to_50 = [\n",
    "    {\n",
    "        \"$match\": {\n",
    "            \"victim_age\": {\"$gte\": 40, \"$lt\": 50}\n",
    "        }\n",
    "    },\n",
    "    {\n",
    "        \"$group\": {\n",
    "            \"_id\": None,\n",
    "            \"count\": {\"$sum\": 1}\n",
    "        }\n",
    "    }\n",
    "]\n",
    "\n",
    "# Execute the pipelines\n",
    "pipelines = [pipeline_10_to_20, pipeline_20_to_30, pipeline_30_to_40, pipeline_40_to_50]\n",
    "\n",
    "for i, pipeline in enumerate(pipelines):\n",
    "    result = collection.aggregate(pipeline)\n",
    "    for doc in result:\n",
    "        print(\"Number of accidents with victim age between\", i*10 + 10, \"and\", i*10 + 19, \":\", doc[\"count\"])\n"
   ]
  },
  {
   "cell_type": "code",
   "execution_count": 55,
   "id": "953fcf26",
   "metadata": {},
   "outputs": [
    {
     "name": "stdout",
     "output_type": "stream",
     "text": [
      "Number of accidents with victim age between 10 and 19 : 31978\n",
      "Percentage of accidents within this age range: 9.909728441583797 %\n",
      "Number of accidents with victim age between 20 and 29 : 92886\n",
      "Percentage of accidents within this age range: 28.78463431186918 %\n",
      "Number of accidents with victim age between 30 and 39 : 65872\n",
      "Percentage of accidents within this age range: 20.41321007892951 %\n",
      "Number of accidents with victim age between 40 and 49 : 50627\n",
      "Percentage of accidents within this age range: 15.688905554195474 %\n"
     ]
    }
   ],
   "source": [
    "# Execute the pipelines\n",
    "pipelines = [pipeline_10_to_20, pipeline_20_to_30, pipeline_30_to_40, pipeline_40_to_50]\n",
    "\n",
    "total_accidents_pipeline = [{\"$group\": {\"_id\": None, \"total_accidents\": {\"$sum\": 1}}}]\n",
    "\n",
    "# Get the total count of accidents\n",
    "total_accidents_result = collection.aggregate(total_accidents_pipeline)\n",
    "total_accidents_count = next(total_accidents_result, {\"total_accidents\": 0})[\"total_accidents\"]\n",
    "\n",
    "# Execute the age range pipelines and calculate percentage\n",
    "for i, pipeline in enumerate(pipelines):\n",
    "    result = collection.aggregate(pipeline)\n",
    "    age_range_count = next(result, {\"count\": 0})[\"count\"]\n",
    "    percentage = (age_range_count / total_accidents_count) * 100\n",
    "    print(\"Number of accidents with victim age between\", i*10 + 10, \"and\", i*10 + 19, \":\", age_range_count)\n",
    "    print(\"Percentage of accidents within this age range:\", percentage, \"%\")"
   ]
  },
  {
   "cell_type": "code",
   "execution_count": 45,
   "id": "fec02d84",
   "metadata": {},
   "outputs": [
    {
     "name": "stdout",
     "output_type": "stream",
     "text": [
      "Age: 10\n",
      "Total count: 850\n",
      "Injury count: 70\n",
      "Injury percentage: 8.235294117647058 %\n",
      "Age: 11\n",
      "Total count: 888\n",
      "Injury count: 84\n",
      "Injury percentage: 9.45945945945946 %\n",
      "Age: 12\n",
      "Total count: 1022\n",
      "Injury count: 103\n",
      "Injury percentage: 10.078277886497064 %\n",
      "Age: 13\n",
      "Total count: 1140\n",
      "Injury count: 127\n",
      "Injury percentage: 11.140350877192983 %\n",
      "Age: 14\n",
      "Total count: 1306\n",
      "Injury count: 165\n",
      "Injury percentage: 12.633996937212864 %\n",
      "Age: 15\n",
      "Total count: 1515\n",
      "Injury count: 177\n",
      "Injury percentage: 11.683168316831685 %\n",
      "Age: 16\n",
      "Total count: 1801\n",
      "Injury count: 236\n",
      "Injury percentage: 13.103831204886173 %\n",
      "Age: 17\n",
      "Total count: 2323\n",
      "Injury count: 330\n",
      "Injury percentage: 14.20576840292725 %\n",
      "Age: 18\n",
      "Total count: 3772\n",
      "Injury count: 677\n",
      "Injury percentage: 17.948038176033933 %\n",
      "Age: 19\n",
      "Total count: 5349\n",
      "Injury count: 1130\n",
      "Injury percentage: 21.125444008225834 %\n",
      "Age: 20\n",
      "Total count: 6905\n",
      "Injury count: 1434\n",
      "Injury percentage: 20.76755973931933 %\n",
      "Age: 21\n",
      "Total count: 7863\n",
      "Injury count: 1792\n",
      "Injury percentage: 22.790283606765865 %\n",
      "Age: 22\n",
      "Total count: 8347\n",
      "Injury count: 1876\n",
      "Injury percentage: 22.475140769138612 %\n",
      "Age: 23\n",
      "Total count: 8286\n",
      "Injury count: 2022\n",
      "Injury percentage: 24.40260680666184 %\n",
      "Age: 24\n",
      "Total count: 8117\n",
      "Injury count: 2027\n",
      "Injury percentage: 24.97228039916225 %\n",
      "Age: 25\n",
      "Total count: 7898\n",
      "Injury count: 2041\n",
      "Injury percentage: 25.841985312737403 %\n",
      "Age: 26\n",
      "Total count: 7492\n",
      "Injury count: 1950\n",
      "Injury percentage: 26.027762947143618 %\n",
      "Age: 27\n",
      "Total count: 7145\n",
      "Injury count: 1840\n",
      "Injury percentage: 25.75227431770469 %\n",
      "Age: 28\n",
      "Total count: 6903\n",
      "Injury count: 1773\n",
      "Injury percentage: 25.684485006518905 %\n",
      "Age: 29\n",
      "Total count: 6321\n",
      "Injury count: 1631\n",
      "Injury percentage: 25.802879291251386 %\n",
      "Age: 30\n",
      "Total count: 6163\n",
      "Injury count: 1647\n",
      "Injury percentage: 26.72399805289632 %\n"
     ]
    }
   ],
   "source": [
    "pipeline = [\n",
    "    {\n",
    "        \"$match\": {\n",
    "            \"victim_age\": {\"$gte\": 10, \"$lte\": 30},\n",
    "            \"victim_sex\": \"male\"\n",
    "        }\n",
    "    },\n",
    "    {\n",
    "        \"$group\": {\n",
    "            \"_id\": \"$victim_age\",\n",
    "            \"total_count\": {\"$sum\": 1},\n",
    "            \"injury_count\": {\n",
    "                \"$sum\": {\n",
    "                    \"$cond\": [{\"$eq\": [\"$victim_degree_of_injury\", \"complaint of pain\"]}, 1, 0]\n",
    "                }\n",
    "            }\n",
    "        }\n",
    "    },\n",
    "    {\n",
    "        \"$project\": {\n",
    "            \"_id\": 1,\n",
    "            \"total_count\": 1,\n",
    "            \"injury_count\": 1,\n",
    "            \"injury_percentage\": {\"$multiply\": [{\"$divide\": [\"$injury_count\", \"$total_count\"]}, 100]}\n",
    "        }\n",
    "    },\n",
    "    {\n",
    "        \"$sort\": {\n",
    "            \"_id\": 1\n",
    "        }\n",
    "    }\n",
    "]\n",
    "\n",
    "result = collection.aggregate(pipeline)\n",
    "\n",
    "for doc in result:\n",
    "    print(\"Age:\", doc[\"_id\"])\n",
    "    print(\"Total count:\", doc[\"total_count\"])\n",
    "    print(\"Injury count:\", doc[\"injury_count\"])\n",
    "    print(\"Injury percentage:\", doc[\"injury_percentage\"], \"%\")\n"
   ]
  }
 ],
 "metadata": {
  "kernelspec": {
   "display_name": "Python 3 (ipykernel)",
   "language": "python",
   "name": "python3"
  },
  "language_info": {
   "codemirror_mode": {
    "name": "ipython",
    "version": 3
   },
   "file_extension": ".py",
   "mimetype": "text/x-python",
   "name": "python",
   "nbconvert_exporter": "python",
   "pygments_lexer": "ipython3",
   "version": "3.11.5"
  }
 },
 "nbformat": 4,
 "nbformat_minor": 5
}
